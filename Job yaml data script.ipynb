{
 "cells": [
  {
   "cell_type": "markdown",
   "id": "a583cd19",
   "metadata": {},
   "source": [
    "# Script to process a job.ymal file into a csv"
   ]
  },
  {
   "cell_type": "code",
   "execution_count": 59,
   "id": "194604ed",
   "metadata": {},
   "outputs": [],
   "source": [
    "import pandas as pd\n",
    "import numpy as np\n",
    "import datetime as dt"
   ]
  },
  {
   "cell_type": "markdown",
   "id": "7ff8fc8a",
   "metadata": {},
   "source": [
    "#### Extracting the relevant job information from ymal files"
   ]
  },
  {
   "cell_type": "code",
   "execution_count": null,
   "id": "f2c7328c",
   "metadata": {},
   "outputs": [],
   "source": [
    "def open_file(file):\n",
    "    # List to store key information\n",
    "    data = []\n",
    "    # Keywords in yaml file to be found\n",
    "    keywords = ['submitted_at:','id:','type:','method:','nsequences:','ncharacters:','completed_at:','num_threads:','query_length:','databases_ncharacters_total:']\n",
    "\n",
    "    # Read the yaml file, finds the keywords and strips spaces and new lines\n",
    "    with open (file,'r') as job:\n",
    "\n",
    "        reader = job.readlines()\n",
    "\n",
    "        for i in reader:\n",
    "            for j in keywords: \n",
    "                if j in i:\n",
    "                    data.append(i.strip(' ').strip('\\n'))\n",
    "    return data"
   ]
  },
  {
   "cell_type": "markdown",
   "id": "7c187cd6",
   "metadata": {},
   "source": [
    "###### Dataset definition "
   ]
  },
  {
   "cell_type": "code",
   "execution_count": null,
   "id": "d9f6a5bb",
   "metadata": {},
   "outputs": [],
   "source": [
    "data = open_file()"
   ]
  },
  {
   "cell_type": "markdown",
   "id": "9e64c9cb",
   "metadata": {},
   "source": [
    "##### Storage for necessary parameters"
   ]
  },
  {
   "cell_type": "code",
   "execution_count": 61,
   "id": "650cda36",
   "metadata": {},
   "outputs": [],
   "source": [
    "# Job dictionary\n",
    "job = {}"
   ]
  },
  {
   "cell_type": "markdown",
   "id": "820902ee",
   "metadata": {},
   "source": [
    "##### Creating and collating the necessary parameters"
   ]
  },
  {
   "cell_type": "code",
   "execution_count": 85,
   "id": "6fdb0b71",
   "metadata": {},
   "outputs": [
    {
     "name": "stdout",
     "output_type": "stream",
     "text": [
      "6a0d7129-3b85-4a0b-b5de-30a7837bdba7 blastn nucleotide 1 883 2150034\n"
     ]
    }
   ],
   "source": [
    "### Extract the immediate info: id, method, type, num_threads, query_length, and database length\n",
    "\n",
    "# Each if statement looks for a different paramenter in the file.\n",
    "# File has multiple id's, this is used to stop after the first one (main one)\n",
    "has_id = False\n",
    "for i in data:\n",
    "    #Finds the id of the job, stops at the first one\n",
    "    if ('id:' in i) and (has_id==False) :\n",
    "        idn = i.replace('id: ','')\n",
    "        has_id = True\n",
    "        continue\n",
    "    elif 'method:' in i:\n",
    "        method = i.replace('method: ','')\n",
    "        continue\n",
    "    elif 'type: ' in i:\n",
    "        tipo = i.replace('type: ','')\n",
    "        continue\n",
    "    elif 'num_threads:' in i:\n",
    "        num_threads = int(i.replace('num_threads: ',''))\n",
    "        continue\n",
    "    elif 'query_length:' in i:\n",
    "        query_length = int(i.replace('query_length: ',''))\n",
    "        continue\n",
    "    elif 'databases_ncharacters_total:' in i:\n",
    "        databases_ncharacters = int(i.replace('databases_ncharacters_total: ',''))\n",
    "        break\n",
    "        \n",
    "# print(idn,method,tipo,num_threads,query_length,databases_ncharacters)\n"
   ]
  },
  {
   "cell_type": "markdown",
   "id": "84d57a94",
   "metadata": {},
   "source": [
    "###### Writing functions to extract the more complex values: total sequences, job duration, and job_duration bins"
   ]
  },
  {
   "cell_type": "code",
   "execution_count": 63,
   "id": "f6dba82d",
   "metadata": {},
   "outputs": [],
   "source": [
    "### Calculating the total number of sequences\n",
    "# Returns the total number of sequences\n",
    "def total_sequences(lista):\n",
    "    '''\n",
    "        Receives a list, looks for the `nsequences: ` string and returns the total number of sequences used as a integer.\n",
    "    '''\n",
    "    nseq = 0\n",
    "    for i in lista:\n",
    "        if 'nsequences:' in i:\n",
    "            num_seq = int(i.replace('nsequences: ','').replace(\"'\",''))\n",
    "            nseq +=  num_seq\n",
    "    return nseq"
   ]
  },
  {
   "cell_type": "code",
   "execution_count": 64,
   "id": "5321cfd3",
   "metadata": {},
   "outputs": [],
   "source": [
    "### Calculating job duration\n",
    "\n",
    "# Find the start and end\n",
    "for i in data:\n",
    "    if 'submitted_at' in i:\n",
    "        start = i.replace('submitted_at: ','')\n",
    "    if 'completed_at' in i:\n",
    "        end = i.replace('completed_at: ','')\n",
    "\n",
    "# Function - returns a dictionary with time data necessary for delta time package\n",
    "def time_filter (time):\n",
    "    '''\n",
    "        Receives a string with datetime values in string and returns a dictionary with the values for a datetime object\n",
    "    '''\n",
    "    new_time = time.replace(' ',',')\n",
    "    for i in time[::-1]:\n",
    "        if i == '+':\n",
    "            new_time = new_time[:time.index(i)-1].replace('-','').replace(':','')\n",
    "    \n",
    "    year = int(new_time[0:4])\n",
    "    month = int(new_time[4:6])\n",
    "    day = int(new_time[6:8])\n",
    "    hour = int(new_time[9:11])\n",
    "    minute = int(new_time[11:13])\n",
    "    seconds = int(new_time[13:15])\n",
    "    micro = int(new_time[16:22])\n",
    "\n",
    "    \n",
    "    dic = {\n",
    "        'year':year,\n",
    "        'month':month,\n",
    "        'day':day,\n",
    "        'hour':hour,\n",
    "        'minute':minute,\n",
    "        'seconds':seconds,\n",
    "        'micro':micro}\n",
    "\n",
    "    return dic"
   ]
  },
  {
   "cell_type": "code",
   "execution_count": 98,
   "id": "ac3ea166",
   "metadata": {},
   "outputs": [],
   "source": [
    "### Calculates the delta between start and end\n",
    "\n",
    "def delta_time(st,et):\n",
    "    '''\n",
    "        Receives two dictionaries with datetime values returns a datetime object with the difference in time\n",
    "    '''\n",
    "    start = dt.datetime(st['year'],st['month'],st['day'],st['hour'],st['minute'],st['seconds'],st['micro'])\n",
    "    end = dt.datetime(et['year'],et['month'],et['day'],et['hour'],et['minute'],et['seconds'],et['micro'])\n",
    "    \n",
    "    delta = end - start\n",
    "\n",
    "    return delta"
   ]
  },
  {
   "cell_type": "code",
   "execution_count": 100,
   "id": "9ed2874f",
   "metadata": {},
   "outputs": [],
   "source": [
    "# Function to merge both functions and return the result as a datetime object and in minutes \n",
    "def job_duration(start_time,end_time):\n",
    "    \n",
    "    '''\n",
    "        Receives 2 datetime strings, calculates the difference and returns a datetime object [0] or the difference in minutes [1]\n",
    "    '''\n",
    "    start_dict = time_filter(start_time)\n",
    "    end_dict = time_filter(end_time)\n",
    "    \n",
    "    delta = delta_time(start_dict,end_dict)\n",
    "    delta_in_minutes = divmod(delta.total_seconds(),60)[0]\n",
    "    \n",
    "    return delta, delta_in_minutes"
   ]
  },
  {
   "cell_type": "code",
   "execution_count": 94,
   "id": "31a3e5c1",
   "metadata": {},
   "outputs": [
    {
     "name": "stdout",
     "output_type": "stream",
     "text": [
      "0:00:00.546165\n",
      "(datetime.timedelta(microseconds=546165), 0.0)\n"
     ]
    }
   ],
   "source": [
    "# Returns the time difference\n",
    "#time_diff = delta_time(time_filter(start),time_filter(end))\n",
    "#print(time_diff)\n",
    "\n",
    "#time_diff_minutes = job_duration(start,end)\n",
    "#print(time_diff_minutes)"
   ]
  },
  {
   "cell_type": "code",
   "execution_count": 67,
   "id": "f8cae7b8",
   "metadata": {},
   "outputs": [],
   "source": [
    "### Function to assign a job duration into a category \n",
    "def duration_bins(datetime_object):\n",
    "    '''\n",
    "        Receives a datetime object and returns a string with the estimated bin duration\n",
    "    '''\n",
    "    if dt.timedelta(minutes = 5) >= datetime_object >= dt.timedelta(seconds = 60):\n",
    "        bin = '1 to 5 minutes'\n",
    "    elif dt.timedelta(minutes = 10) >= datetime_object >= dt.timedelta(minutes = 5, seconds = 1):\n",
    "        bin = '5 to 10 minutes'\n",
    "    elif dt.timedelta(minutes = 30) >= datetime_object >= dt.timedelta(minutes = 10, seconds = 1):\n",
    "        bin = '10 to 30 minutes'\n",
    "    elif dt.timedelta(hours = 1) >= datetime_object >= dt.timedelta(minutes = 31):\n",
    "        bin = '30 to 60 minutes'\n",
    "    elif dt.timedelta(hours = 2) >= datetime_object >= dt.timedelta(hours = 1, minutes = 1):\n",
    "        bin = '1 to 2 hours'\n",
    "    elif dt.timedelta(hours = 5) >= datetime_object >= dt.timedelta(hours = 2, minutes = 1):\n",
    "        bin = '2 to 5 hours'\n",
    "    elif dt.timedelta(hours = 10) >= datetime_object >= dt.timedelta(hours = 5, minutes = 1):\n",
    "        bin = '5 to 10 hours'\n",
    "    elif dt.timedelta(hours = 15) >= datetime_object >= dt.timedelta(hours = 10, minutes = 1):\n",
    "        bin = '10 to 15 hours'\n",
    "    elif dt.timedelta(hours = 24) >= datetime_object >= dt.timedelta(hours = 15, minutes = 1):\n",
    "        bin = '15 to 24 hours'\n",
    "    elif datetime_object >= dt.timedelta(hours = 24, minutes = 1):\n",
    "        bin = 'More than 1 day'\n",
    "    else:\n",
    "        bin = 'Less than 1 minute'\n",
    "    return bin"
   ]
  },
  {
   "cell_type": "code",
   "execution_count": 68,
   "id": "b65bf7e9",
   "metadata": {},
   "outputs": [
    {
     "name": "stdout",
     "output_type": "stream",
     "text": [
      "10 to 15 hours\n"
     ]
    }
   ],
   "source": [
    "# Testing the duration_bins function\n",
    "#print(duration_bins(dt.timedelta(minutes=852)))"
   ]
  },
  {
   "cell_type": "markdown",
   "id": "c714b296",
   "metadata": {},
   "source": [
    "##### Adding information to the job dictionary "
   ]
  },
  {
   "cell_type": "code",
   "execution_count": 95,
   "id": "5a3a774d",
   "metadata": {},
   "outputs": [
    {
     "name": "stdout",
     "output_type": "stream",
     "text": [
      "{'id': '6a0d7129-3b85-4a0b-b5de-30a7837bdba7', 'method': 'blastn', 'type': 'nucleotide', 'nsequences': 16, 'num_threads': 1, 'query_length': 883, 'databases_ncharacters_total': 2150034, 'duration': 0.0, 'duration_window': 'Less than 1 minute'}\n"
     ]
    }
   ],
   "source": [
    "# Add the necessary data to the job dictionary\n",
    "job['id'] = idn\n",
    "job['method'] = method\n",
    "job['type'] = tipo\n",
    "job['nsequences'] = total_sequences(data)\n",
    "job['num_threads']=num_threads\n",
    "job['query_length']=query_length\n",
    "job['databases_ncharacters_total']=databases_ncharacters\n",
    "job['duration'] = job_duration(start,end)[1]\n",
    "job['duration_window'] = duration_bins(job_duration(start,end)[0])\n",
    "print(job)\n",
    "\n",
    "# id: unique job id\n",
    "# method: blast algorithm used\n",
    "# type: nucleotide or amino acid sequence\n",
    "# nsequences: number of sequences in the job\n",
    "# num_threads: number of threads used for the job\n",
    "# query_lenth: total number of characters in the queried sequences\n",
    "# databases_ncharacters_total: total number of characters in the queried databases\n",
    "# duration: job duration in minutes\n",
    "# duration_window: estimated duration - string. "
   ]
  },
  {
   "cell_type": "code",
   "execution_count": 131,
   "id": "6be1bc4f",
   "metadata": {},
   "outputs": [
    {
     "name": "stdout",
     "output_type": "stream",
     "text": [
      "                                     id  method        type  nsequences  \\\n",
      "0  6a0d7129-3b85-4a0b-b5de-30a7837bdba7  blastn  nucleotide          16   \n",
      "\n",
      "   num_threads  query_length  databases_ncharacters_total  duration  \\\n",
      "0            1           883                      2150034       0.0   \n",
      "\n",
      "      duration_window  \n",
      "0  Less than 1 minute  \n"
     ]
    }
   ],
   "source": [
    "# Put everything into a dataframe\n",
    "df = pd.DataFrame(job, index = [0])\n",
    "df.append(job, ignore_index = True)\n",
    "print(df)"
   ]
  },
  {
   "cell_type": "code",
   "execution_count": 126,
   "id": "a1c3e944",
   "metadata": {},
   "outputs": [],
   "source": [
    "# Export into a csv when dataframe is complete.\n",
    "#file = df.to_csv('testfile.tsv', sep='\\t')"
   ]
  }
 ],
 "metadata": {
  "kernelspec": {
   "display_name": "Python 3 (ipykernel)",
   "language": "python",
   "name": "python3"
  },
  "language_info": {
   "codemirror_mode": {
    "name": "ipython",
    "version": 3
   },
   "file_extension": ".py",
   "mimetype": "text/x-python",
   "name": "python",
   "nbconvert_exporter": "python",
   "pygments_lexer": "ipython3",
   "version": "3.8.8"
  }
 },
 "nbformat": 4,
 "nbformat_minor": 5
}
